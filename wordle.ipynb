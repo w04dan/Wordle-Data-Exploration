{
 "cells": [
  {
   "attachments": {},
   "cell_type": "markdown",
   "metadata": {},
   "source": [
    "### Package Installs and Imports"
   ]
  },
  {
   "cell_type": "code",
   "execution_count": null,
   "metadata": {},
   "outputs": [],
   "source": [
    "%conda install -c conda-forge tweepy"
   ]
  },
  {
   "cell_type": "code",
   "execution_count": 1,
   "metadata": {},
   "outputs": [],
   "source": [
    "import tweepy\n",
    "import json"
   ]
  },
  {
   "attachments": {},
   "cell_type": "markdown",
   "metadata": {},
   "source": [
    "### Twitter Authetications and Scraping"
   ]
  },
  {
   "cell_type": "code",
   "execution_count": 2,
   "metadata": {},
   "outputs": [],
   "source": [
    "with open('credentials.json', 'r') as ifile:\n",
    "    creds = json.load(ifile)"
   ]
  },
  {
   "cell_type": "code",
   "execution_count": 13,
   "metadata": {},
   "outputs": [],
   "source": [
    "api_key = creds['api_key']\n",
    "api_secret = creds['api_key_secret']\n",
    "bearer_token = creds['bearer_token']\n",
    "access_token = creds['access_token']\n",
    "access_token_secret = creds['access_token_secret']\n",
    "\n",
    "auth = tweepy.OAuth1UserHandler(api_key, api_secret, access_token, access_token_secret)\n",
    "api = tweepy.API(auth)"
   ]
  },
  {
   "cell_type": "code",
   "execution_count": 14,
   "metadata": {},
   "outputs": [
    {
     "name": "stdout",
     "output_type": "stream",
     "text": [
      "Downloaded 147 tweets so far\n",
      "Downloaded 277 tweets so far\n",
      "Downloaded 408 tweets so far\n",
      "Downloaded 553 tweets so far\n",
      "Downloaded 667 tweets so far\n",
      "Downloaded 792 tweets so far\n",
      "Downloaded 925 tweets so far\n",
      "Downloaded 1091 tweets so far\n",
      "Downloaded 1268 tweets so far\n",
      "Downloaded 1382 tweets so far\n",
      "Downloaded 1517 tweets so far\n",
      "Downloaded 1628 tweets so far\n",
      "Downloaded 1739 tweets so far\n",
      "Downloaded 1858 tweets so far\n",
      "Downloaded 1966 tweets so far\n",
      "Downloaded 2078 tweets so far\n",
      "Downloaded 2096 tweets so far\n"
     ]
    }
   ],
   "source": [
    "user_id = 'realDonaldTrump'\n",
    "tweets = api.user_timeline(screen_name='realDonaldTrump', count=10, include_rts=False, tweet_mode='extended')\n",
    "oldest_id = tweets[-1].id\n",
    "all_tweets = []\n",
    "all_tweets.extend(tweets)\n",
    "while True:\n",
    "    tweets = api.user_timeline(screen_name='realDonaldTrump', count=200, include_rts=False, max_id=oldest_id - 1, tweet_mode='extended')\n",
    "    if len(tweets) == 0:\n",
    "        break\n",
    "    oldest_id = tweets[-1].id\n",
    "    all_tweets.extend(tweets)\n",
    "    print(f\"Downloaded {len(all_tweets)} tweets so far\")"
   ]
  },
  {
   "cell_type": "code",
   "execution_count": 15,
   "metadata": {},
   "outputs": [
    {
     "name": "stdout",
     "output_type": "stream",
     "text": [
      "To all of those who have asked, I will not be going to the Inauguration on January 20th.\n",
      "The 75,000,000 great American Patriots who voted for me, AMERICA FIRST, and MAKE AMERICA GREAT AGAIN, will have a GIANT VOICE long into the future. They will not be disrespected or treated unfairly in any way, shape or form!!!\n",
      "https://t.co/csX07ZVWGe\n"
     ]
    }
   ],
   "source": [
    "for info in all_tweets[:3]:\n",
    "    print(info.full_text)"
   ]
  }
 ],
 "metadata": {
  "kernelspec": {
   "display_name": "base",
   "language": "python",
   "name": "python3"
  },
  "language_info": {
   "codemirror_mode": {
    "name": "ipython",
    "version": 3
   },
   "file_extension": ".py",
   "mimetype": "text/x-python",
   "name": "python",
   "nbconvert_exporter": "python",
   "pygments_lexer": "ipython3",
   "version": "3.9.13"
  },
  "orig_nbformat": 4,
  "vscode": {
   "interpreter": {
    "hash": "b551947dbcea828fcad287b2b48fd3c080d4b3970cf5311e2f7ee8c675302a26"
   }
  }
 },
 "nbformat": 4,
 "nbformat_minor": 2
}
