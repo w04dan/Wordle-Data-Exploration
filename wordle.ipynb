{
 "cells": [
  {
   "attachments": {},
   "cell_type": "markdown",
   "metadata": {},
   "source": [
    "### Package Installs and Imports"
   ]
  },
  {
   "cell_type": "code",
   "execution_count": 5,
   "metadata": {},
   "outputs": [],
   "source": [
    "# %conda install -c conda-forge tweepy"
   ]
  },
  {
   "cell_type": "code",
   "execution_count": 6,
   "metadata": {},
   "outputs": [],
   "source": [
    "import tweepy\n",
    "import json\n",
    "import re\n",
    "import numpy as np\n",
    "import pandas as pd\n",
    "import matplotlib.pyplot as plt"
   ]
  },
  {
   "attachments": {},
   "cell_type": "markdown",
   "metadata": {},
   "source": [
    "### Data"
   ]
  },
  {
   "attachments": {},
   "cell_type": "markdown",
   "metadata": {},
   "source": [
    "The data used is from scraping the tweets of @WordleStats. API permissions (twitter api restricts the number of tweets that can be pulled per month) and hardware limitations prevent me from directly searching for all Wordle tweets myself. Implications of the dataset are discussed at the end of the data exploration section."
   ]
  },
  {
   "attachments": {},
   "cell_type": "markdown",
   "metadata": {},
   "source": [
    "### Twitter Authetication"
   ]
  },
  {
   "cell_type": "code",
   "execution_count": 7,
   "metadata": {},
   "outputs": [],
   "source": [
    "with open('credentials.json', 'r') as ifile:\n",
    "    creds = json.load(ifile)"
   ]
  },
  {
   "cell_type": "code",
   "execution_count": 8,
   "metadata": {},
   "outputs": [
    {
     "name": "stdout",
     "output_type": "stream",
     "text": [
      "Authorized as william04dan\n"
     ]
    }
   ],
   "source": [
    "api_key = creds['api_key']\n",
    "api_secret = creds['api_key_secret']\n",
    "bearer_token = creds['bearer_token']\n",
    "access_token = creds['access_token']\n",
    "access_token_secret = creds['access_token_secret']\n",
    "\n",
    "# Twitter API v.2 client authorization\n",
    "\n",
    "client = tweepy.Client(bearer_token, api_key, api_secret, access_token, access_token_secret)\n",
    "\n",
    "try:\n",
    "    me = client.get_me()\n",
    "    print(f\"Authorized as {me.data}\")\n",
    "except:\n",
    "    print(\"Authorization failed\")\n",
    "\n",
    "\n",
    "# Twitter API v.1 client authorization\n",
    "\n",
    "# auth = tweepy.OAuth1UserHandler(api_key, api_secret, access_token, access_token_secret)\n",
    "# api = tweepy.API(auth)"
   ]
  },
  {
   "attachments": {},
   "cell_type": "markdown",
   "metadata": {},
   "source": [
    "### Tweet Scraping\n"
   ]
  },
  {
   "cell_type": "code",
   "execution_count": 9,
   "metadata": {},
   "outputs": [],
   "source": [
    "target_username = 'WordleStats'\n",
    "target = client.get_users(usernames=[target_username])\n",
    "target_id = target.data[0].id"
   ]
  },
  {
   "attachments": {},
   "cell_type": "markdown",
   "metadata": {},
   "source": [
    "Client.get_users_tweets() only retrieves a maximum of 100 tweets per request so to grab all tweets we need to repeatedly request tweets"
   ]
  },
  {
   "cell_type": "code",
   "execution_count": 10,
   "metadata": {},
   "outputs": [
    {
     "name": "stdout",
     "output_type": "stream",
     "text": [
      "Grabbed 376 tweets from @WordleStats\n",
      "\n"
     ]
    }
   ],
   "source": [
    "target_tweets = client.get_users_tweets(id=target_id, max_results=100).data\n",
    "latest_id = target_tweets[-1].id\n",
    "\n",
    "while True:\n",
    "    next_tweets = client.get_users_tweets(id=target_id, max_results=100, until_id=latest_id).data\n",
    "    if not next_tweets:\n",
    "        break\n",
    "    target_tweets.extend(next_tweets)\n",
    "    latest_id = target_tweets[-1].id\n",
    "\n",
    "print(f\"Grabbed {len(target_tweets)} tweets from @{target_username}\\n\")"
   ]
  },
  {
   "attachments": {},
   "cell_type": "markdown",
   "metadata": {},
   "source": [
    "### Tweet Processing"
   ]
  },
  {
   "cell_type": "code",
   "execution_count": 11,
   "metadata": {},
   "outputs": [
    {
     "data": {
      "text/plain": [
       "<Tweet id=1613219422818435073 text='#Wordle 570 2023-01-10\\n22,248 results found on Twitter.\\n2,157 hard mode players.\\n\\n1:  0%\\n2:  2%\\n3: 🟩🟩🟩🟩 19%\\n4: 🟩🟩🟩🟩🟩🟩🟩🟩🟩🟩 40%\\n5: 🟩🟩🟩🟩🟩🟩🟩 28%\\n6: 🟩🟩 9%\\nX:  1%\\n\\n#Wordle570'>"
      ]
     },
     "execution_count": 11,
     "metadata": {},
     "output_type": "execute_result"
    }
   ],
   "source": [
    "example_tweet = target_tweets[0]\n",
    "example_tweet"
   ]
  },
  {
   "cell_type": "code",
   "execution_count": 12,
   "metadata": {},
   "outputs": [
    {
     "data": {
      "text/plain": [
       "{'wordle_number': '570',\n",
       " 'total_players': 22248,\n",
       " 'hardmode_players': 2157,\n",
       " 'score_1': 0.0,\n",
       " 'score_2': 0.02,\n",
       " 'score_3': 0.19,\n",
       " 'score_4': 0.4,\n",
       " 'score_5': 0.28,\n",
       " 'score_6': 0.09,\n",
       " 'score_X': 0.01}"
      ]
     },
     "execution_count": 12,
     "metadata": {},
     "output_type": "execute_result"
    }
   ],
   "source": [
    "# Looking for the Wordle number\n",
    "# For example, Wordle's autogenerated share message begins with 'Wordle #' where # is which number Wordle it is\n",
    "wordle_pattern = re.compile(r'[wW]ordle\\s?\\d+')\n",
    "\n",
    "# Looking for results found\n",
    "results_pattern = re.compile(r'[\\d,]+\\sresults')\n",
    "\n",
    "# Looking for hardmode players\n",
    "hardmode_pattern = re.compile(r'[\\d,]+\\shard')\n",
    "\n",
    "# Looking for the stats in WordleStat's tweets\n",
    "stat_pattern = re.compile(r'\\b[1-6xX]:.+\\d%')\n",
    "\n",
    "# Example processing of example_tweet\n",
    "example_data = {}\n",
    "wordle_match = wordle_pattern.search(example_tweet.text)\n",
    "results_match = results_pattern.search(example_tweet.text)\n",
    "hardmode_match = hardmode_pattern.search(example_tweet.text)\n",
    "stats_matches = stat_pattern.finditer(example_tweet.text)\n",
    "\n",
    "example_data['wordle_number'] = re.search(r'\\d+', wordle_match[0])[0]\n",
    "example_data['total_players'] = int(re.search(r'[\\d,]+', results_match[0])[0].replace(',', ''))\n",
    "example_data['hardmode_players'] = int(re.search(r'[\\d,]+', hardmode_match[0])[0].replace(',', ''))\n",
    "for match in stats_matches:\n",
    "    example_data[f'score_{match[0][0]}'] = int(re.search(r'\\d+', match[0][1:])[0]) / 100\n",
    "\n",
    "example_data"
   ]
  },
  {
   "cell_type": "code",
   "execution_count": 13,
   "metadata": {},
   "outputs": [
    {
     "name": "stdout",
     "output_type": "stream",
     "text": [
      "Did not find matching wordle_pattern in tweet 1488956933621129223\n",
      "Did not find matching results_pattern in tweet 1488956933621129223\n",
      "Did not find matching hardmode_pattern in tweet 1488956933621129223\n",
      "Only found data for [] in tweet 1488956933621129223\n",
      "Did not find matching wordle_pattern in tweet 1487826071357739008\n",
      "Did not find matching results_pattern in tweet 1487826071357739008\n",
      "Did not find matching hardmode_pattern in tweet 1487826071357739008\n",
      "Only found data for [] in tweet 1487826071357739008\n",
      "Did not find matching wordle_pattern in tweet 1486840170406158341\n",
      "Did not find matching results_pattern in tweet 1486840170406158341\n",
      "Did not find matching hardmode_pattern in tweet 1486840170406158341\n",
      "Only found data for [] in tweet 1486840170406158341\n",
      "Did not find matching wordle_pattern in tweet 1483455698038050820\n",
      "Did not find matching results_pattern in tweet 1483455698038050820\n",
      "Did not find matching hardmode_pattern in tweet 1483455698038050820\n",
      "Only found data for [] in tweet 1483455698038050820\n",
      "Did not find matching wordle_pattern in tweet 1482120702903951365\n",
      "Did not find matching wordle_pattern in tweet 1481690630078218242\n",
      "Did not find matching results_pattern in tweet 1481690630078218242\n",
      "Did not find matching wordle_pattern in tweet 1479898872898011139\n",
      "Did not find matching results_pattern in tweet 1479898872898011139\n",
      "Did not find matching hardmode_pattern in tweet 1479898872898011139\n",
      "Only found data for [] in tweet 1479898872898011139\n"
     ]
    }
   ],
   "source": [
    "wordle_data = []\n",
    "invalid_tweets = set()\n",
    "\n",
    "for tweet in target_tweets:\n",
    "    tweet_data = {}\n",
    "    wordle_match = wordle_pattern.search(tweet.text)\n",
    "    if not wordle_match:\n",
    "        print(f'Did not find matching wordle_pattern in tweet {tweet.id}')\n",
    "        invalid_tweets.add(tweet.id)\n",
    "    else:\n",
    "        tweet_data['wordle_number'] = re.search(r'\\d+', wordle_match[0])[0]\n",
    "\n",
    "    results_match = results_pattern.search(tweet.text)\n",
    "    if not results_match:\n",
    "        print(f'Did not find matching results_pattern in tweet {tweet.id}')\n",
    "        invalid_tweets.add(tweet.id)\n",
    "    else:\n",
    "        tweet_data['total_players'] = int(re.search(r'[\\d,]+', results_match[0])[0].replace(',', ''))\n",
    "\n",
    "    hardmode_match = hardmode_pattern.search(tweet.text)\n",
    "    if not hardmode_match:\n",
    "        print(f'Did not find matching hardmode_pattern in tweet {tweet.id}')\n",
    "        invalid_tweets.add(tweet.id)\n",
    "    else:\n",
    "        tweet_data['hardmode_players'] = int(re.search(r'[\\d,]+', hardmode_match[0])[0].replace(',', ''))\n",
    "\n",
    "    stats_matches = stat_pattern.finditer(tweet.text)\n",
    "    scores = []\n",
    "    for match in stats_matches:\n",
    "        scores.append(match[0][0])\n",
    "        tweet_data[f'score_{match[0][0]}'] = int(re.search(r'\\d+', match[0][1:])[0]) / 100\n",
    "    if len(scores) != 7:\n",
    "        print(f'Only found data for {scores} in tweet {tweet.id}')\n",
    "        invalid_tweets.add(tweet.id)\n",
    "\n",
    "    if not tweet.id in invalid_tweets:\n",
    "        wordle_data.append(tweet_data)"
   ]
  },
  {
   "cell_type": "code",
   "execution_count": 14,
   "metadata": {},
   "outputs": [
    {
     "name": "stdout",
     "output_type": "stream",
     "text": [
      "@CristinaAmpil What would an aggregate distribution look like? I’m unfamiliar with stats/etc\n",
      "@Gary_Boyd_NZ Just for you for today Gary:\n",
      "\n",
      "3,073 hard mode players.\n",
      "\n",
      "1:  1%\n",
      "2:  4%\n",
      "3: 🟩🟩🟩 16%\n",
      "4: 🟩🟩🟩🟩🟩🟩 27%\n",
      "5: 🟩🟩🟩🟩🟩🟩🟩 30%\n",
      "6: 🟩🟩🟩🟩 19%\n",
      "X: 🟩 4%\n",
      "@WordleHaiku These are the full results for everyone :)\n",
      "@24Acoustics @PlanningActBlog You are correct! This should now be fixed.\n",
      "@WordleHaiku Just for you for today!\n",
      "\n",
      "132,770 results found on Twitter.\n",
      "3,346 hard mode players.\n",
      "\n",
      "1:  0.63%\n",
      "2:  2.28%\n",
      "3: 🟩🟩🟩 13.08%\n",
      "4: 🟩🟩🟩🟩🟩🟩🟩 29.11%\n",
      "5: 🟩🟩🟩🟩🟩🟩🟩 31.45%\n",
      "6: 🟩🟩🟩🟩🟩 20.32%\n",
      "X:  3.13%\n",
      "@fudo @gooeyblob @WordleFRStats Yes, all players. I’ll see if adding the average makes sense, thanks!\n",
      "@kyfdx Whole group\n"
     ]
    }
   ],
   "source": [
    "for tweet_id in invalid_tweets:\n",
    "    tweet = client.get_tweet(id=tweet_id)\n",
    "    print(tweet.data.text)"
   ]
  },
  {
   "attachments": {},
   "cell_type": "markdown",
   "metadata": {},
   "source": [
    "Looking through the above tweets, there isn't a large pattern of tweets misidentified. In fact, the only two tweets above containing contained Wordle data where additional side-tweets; they did not replace the daily stats. This is confirmed in the Data Exploration section."
   ]
  },
  {
   "cell_type": "code",
   "execution_count": 15,
   "metadata": {},
   "outputs": [],
   "source": [
    "# It makes more sense to reverse the data\n",
    "wordle_df = pd.DataFrame(reversed(wordle_data))\n",
    "wordle_df = wordle_df.set_index('wordle_number')\n",
    "wordle_df.index = pd.to_numeric(wordle_df.index)"
   ]
  },
  {
   "attachments": {},
   "cell_type": "markdown",
   "metadata": {},
   "source": [
    "Finally, we load all Wordle words (up to February 04, 2023) into a list."
   ]
  },
  {
   "cell_type": "code",
   "execution_count": 16,
   "metadata": {},
   "outputs": [
    {
     "data": {
      "text/plain": [
       "['CIGAR', 'REBUT', 'SISSY', 'HUMPH', 'AWAKE']"
      ]
     },
     "execution_count": 16,
     "metadata": {},
     "output_type": "execute_result"
    }
   ],
   "source": [
    "wordle_words = []\n",
    "\n",
    "with open('wordle_words.txt', 'r') as fin:\n",
    "    word_pattern = re.compile(r'[A-Z]{5}')\n",
    "    for line in fin:\n",
    "        wordle_words.append(word_pattern.search(line)[0])\n",
    "\n",
    "wordle_words[:5]"
   ]
  },
  {
   "attachments": {},
   "cell_type": "markdown",
   "metadata": {},
   "source": [
    "### Data Exploration"
   ]
  },
  {
   "attachments": {},
   "cell_type": "markdown",
   "metadata": {},
   "source": [
    "Looking at the preview above, it seems that the earliest Wordle we have data on is Wordle 202. The latest is Wordle 570. We confirm this below."
   ]
  },
  {
   "cell_type": "code",
   "execution_count": 17,
   "metadata": {},
   "outputs": [
    {
     "name": "stdout",
     "output_type": "stream",
     "text": [
      "The earliest recorded Wordle is Wordle 202\n",
      "The latest recorded Wordle is Wordle 570\n"
     ]
    }
   ],
   "source": [
    "print(f'The earliest recorded Wordle is Wordle {wordle_df.index.min()}')\n",
    "print(f'The latest recorded Wordle is Wordle {wordle_df.index.max()}')"
   ]
  },
  {
   "attachments": {},
   "cell_type": "markdown",
   "metadata": {},
   "source": [
    "Additionally, we can confirm that there are no Wordles skipped between 202 and 570. This confirms what we stated at the end of the previous section."
   ]
  },
  {
   "cell_type": "code",
   "execution_count": 18,
   "metadata": {},
   "outputs": [
    {
     "name": "stdout",
     "output_type": "stream",
     "text": [
      "There are 369 distinct Wordles recorded\n",
      "There are 369 Wordles recorded\n"
     ]
    }
   ],
   "source": [
    "print(f'There are {len(wordle_df.index.unique())} distinct Wordles recorded')\n",
    "print(f'There are {wordle_df.shape[0]} Wordles recorded')"
   ]
  },
  {
   "attachments": {},
   "cell_type": "markdown",
   "metadata": {},
   "source": [
    "#### Let's look at player trends."
   ]
  },
  {
   "cell_type": "code",
   "execution_count": 19,
   "metadata": {},
   "outputs": [
    {
     "data": {
      "image/png": "[encoded data removed]",
      "text/plain": [
       "<Figure size 1200x400 with 2 Axes>"
      ]
     },
     "metadata": {},
     "output_type": "display_data"
    }
   ],
   "source": [
    "fig, axs = plt.subplots(1, 2, figsize=(12, 4), layout='constrained')\n",
    "\n",
    "# Total players\n",
    "axs[0].plot(wordle_df.index, wordle_df['total_players'])\n",
    "axs[0].set_xlabel('Wordle Number')\n",
    "axs[0].set_ylabel('Total Players')\n",
    "axs[0].set_title('Players over Time')\n",
    "\n",
    "# Hardmode players\n",
    "axs[1].plot(wordle_df.index, wordle_df['hardmode_players'] / wordle_df['total_players'])\n",
    "axs[1].set_xlabel('Wordle Number')\n",
    "axs[1].set_ylabel('Hardmode Players (% of Total)')\n",
    "axs[1].set_title('Hardmode Players over Time')\n",
    "plt.show()"
   ]
  },
  {
   "attachments": {},
   "cell_type": "markdown",
   "metadata": {},
   "source": [
    "We observe that Wordle's popularity explodes at around Wordle 240 and has steadily fallen since then. This matches Wordle's virality at that time, and the steady decline since then matches the expected lifecycle of any game, especially one with a moment of virality like Wordle.\n",
    "\n",
    "We can also observe that in this time Wordle's percentage of hardmode players has steadily increased. This may be explained by the idea that hardmode players are less likely to stop playing, and that as time goes on more players become better and discover hardmode."
   ]
  },
  {
   "attachments": {},
   "cell_type": "markdown",
   "metadata": {},
   "source": [
    "#### Let's look at difficulty."
   ]
  },
  {
   "attachments": {},
   "cell_type": "markdown",
   "metadata": {},
   "source": [
    "A natural way to determine the difficulty of a Wordle word is the average number of tries a user takes. This requires some decision-making.\n",
    "\n",
    "1. Foremost is that the game ends after 6 tries. In reality, X tries can be 7, 8, or any number of tries. I choose to treat X tries as 7 tries. Given the distribution of tries this would be the most likely amount of tries X tries would correspond to. Also, as the amount of tries gets further from the average of 4 or 5, like 12 or 13, we might expect the score to be overly influenced by personal factors (such as knowing the target word, personal strategy) than the difficulty of the word.\n",
    "\n",
    "2. Secondly, because we know how the game works, we know it is simply up to blind luck (or cheating) that a player gets the word in 1 try. Furthermore, the percentage is consistently close to 0%, and so it is unduly affected by the rounding done. I choose to exclude scores of 1 from my calculations."
   ]
  },
  {
   "cell_type": "code",
   "execution_count": 20,
   "metadata": {},
   "outputs": [
    {
     "name": "stdout",
     "output_type": "stream",
     "text": [
      "The average difficulty of a Wordle is 4.2065213673304385\n"
     ]
    }
   ],
   "source": [
    "def average_score(row):\n",
    "    weighted = 0\n",
    "    total = 0\n",
    "    for score, score_col in enumerate(wordle_df.columns[3:], start=2):\n",
    "        weighted += score * row[score_col]\n",
    "        total += row[score_col]\n",
    "    return weighted / total\n",
    "\n",
    "average_scores = wordle_df.apply(average_score, axis=1)\n",
    "print(f'The average difficulty of a Wordle is {average_scores.mean()}')"
   ]
  },
  {
   "attachments": {},
   "cell_type": "markdown",
   "metadata": {},
   "source": [
    "Finally, let's find the three easiest Wordle words and the three hardest Wordle words."
   ]
  },
  {
   "cell_type": "code",
   "execution_count": 21,
   "metadata": {},
   "outputs": [
    {
     "name": "stdout",
     "output_type": "stream",
     "text": [
      "The 3 Easiest Wordles were:\n",
      "Wordle 319: TRAIN\n",
      "Wordle 307: PLANT\n",
      "Wordle 294: STAIR\n",
      "The 3 Hardest Wordles were:\n",
      "Wordle 454: PARER\n",
      "Wordle 491: MUMMY\n",
      "Wordle 409: COYLY\n"
     ]
    }
   ],
   "source": [
    "TOP_X = 3\n",
    "\n",
    "sorted_averages = average_scores.sort_values()\n",
    "easiest_wordles = [sorted_averages.index[i] for i in range(TOP_X)]\n",
    "hardest_wordles = [sorted_averages.index[-i] for i in range(1, TOP_X + 1)]\n",
    "\n",
    "print(f'The {TOP_X} Easiest Wordles were:')\n",
    "for i in range(TOP_X):\n",
    "    print(f'Wordle {easiest_wordles[i]}: {wordle_words[easiest_wordles[i]]}')\n",
    "\n",
    "print(f'The {TOP_X} Hardest Wordles were:')\n",
    "for i in range(TOP_X):\n",
    "    print(f'Wordle {hardest_wordles[i]}: {wordle_words[hardest_wordles[i]]}')"
   ]
  },
  {
   "attachments": {},
   "cell_type": "markdown",
   "metadata": {},
   "source": [
    "The data we used is far from perfect. Someone else has aggregated the data, so we are relying on their accuracy. In addition, the percentages are rounded. It would be better to scrape the individual tweets ourselves to get a more exact distribution. If we had direct access to Wordle, we could get much more complete and unbaised data, like the actual number of players and scores, the scores of the people who share their scores, the number of people who start but do not complete their Wordle, etc."
   ]
  }
 ],
 "metadata": {
  "kernelspec": {
   "display_name": "base",
   "language": "python",
   "name": "python3"
  },
  "language_info": {
   "codemirror_mode": {
    "name": "ipython",
    "version": 3
   },
   "file_extension": ".py",
   "mimetype": "text/x-python",
   "name": "python",
   "nbconvert_exporter": "python",
   "pygments_lexer": "ipython3",
   "version": "3.9.13"
  },
  "orig_nbformat": 4,
  "vscode": {
   "interpreter": {
    "hash": "b551947dbcea828fcad287b2b48fd3c080d4b3970cf5311e2f7ee8c675302a26"
   }
  }
 },
 "nbformat": 4,
 "nbformat_minor": 2
}
