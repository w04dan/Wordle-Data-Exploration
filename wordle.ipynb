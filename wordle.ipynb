{
 "cells": [
  {
   "attachments": {},
   "cell_type": "markdown",
   "metadata": {},
   "source": [
    "### Package Installs and Imports"
   ]
  },
  {
   "cell_type": "code",
   "execution_count": null,
   "metadata": {},
   "outputs": [],
   "source": [
    "%conda install -c conda-forge tweepy"
   ]
  },
  {
   "cell_type": "code",
   "execution_count": 68,
   "metadata": {},
   "outputs": [],
   "source": [
    "import tweepy\n",
    "import json\n",
    "from typing import List"
   ]
  },
  {
   "attachments": {},
   "cell_type": "markdown",
   "metadata": {},
   "source": [
    "### Twitter Authetication"
   ]
  },
  {
   "cell_type": "code",
   "execution_count": 5,
   "metadata": {},
   "outputs": [],
   "source": [
    "with open('credentials.json', 'r') as ifile:\n",
    "    creds = json.load(ifile)"
   ]
  },
  {
   "cell_type": "code",
   "execution_count": 98,
   "metadata": {},
   "outputs": [
    {
     "name": "stdout",
     "output_type": "stream",
     "text": [
      "Authorized as william04dan\n"
     ]
    }
   ],
   "source": [
    "api_key = creds['api_key']\n",
    "api_secret = creds['api_key_secret']\n",
    "bearer_token = creds['bearer_token']\n",
    "access_token = creds['access_token']\n",
    "access_token_secret = creds['access_token_secret']\n",
    "\n",
    "# Twitter API v.2 client authorization\n",
    "\n",
    "client = tweepy.Client(bearer_token, api_key, api_secret, access_token, access_token_secret)\n",
    "\n",
    "try:\n",
    "    me = client.get_me()\n",
    "    print(f\"Authorized as {me.data}\")\n",
    "except:\n",
    "    print(f\"Authorization failed\")\n",
    "\n",
    "\n",
    "# Twitter API v.1 client authorization\n",
    "\n",
    "# auth = tweepy.OAuth1UserHandler(api_key, api_secret, access_token, access_token_secret)\n",
    "# api = tweepy.API(auth)"
   ]
  },
  {
   "attachments": {},
   "cell_type": "markdown",
   "metadata": {},
   "source": [
    "### Tweet Scraping\n"
   ]
  },
  {
   "cell_type": "code",
   "execution_count": 101,
   "metadata": {},
   "outputs": [],
   "source": [
    "target_username = 'WordleStats'\n",
    "target = client.get_users(usernames=[target_username])\n",
    "target_id = target.data[0].id"
   ]
  },
  {
   "attachments": {},
   "cell_type": "markdown",
   "metadata": {},
   "source": [
    "Client.get_users_tweets() only retrieves a maximum of 100 tweets per request so to grab all tweets we need to repeatedly request tweets"
   ]
  },
  {
   "cell_type": "code",
   "execution_count": 103,
   "metadata": {},
   "outputs": [
    {
     "name": "stdout",
     "output_type": "stream",
     "text": [
      "Grabbed 373 tweets from @WordleStats\n",
      "\n"
     ]
    }
   ],
   "source": [
    "target_tweets = client.get_users_tweets(id=target_id, max_results=100).data\n",
    "latest_id = target_tweets[-1].id\n",
    "\n",
    "while True:\n",
    "    next_tweets = client.get_users_tweets(id=target_id, max_results=100, until_id=latest_id).data\n",
    "    if not next_tweets:\n",
    "        break\n",
    "    target_tweets.extend(next_tweets)\n",
    "    latest_id = target_tweets[-1].id\n",
    "\n",
    "print(f\"Grabbed {len(target_tweets)} tweets from @{target_username}\\n\")"
   ]
  },
  {
   "attachments": {},
   "cell_type": "markdown",
   "metadata": {},
   "source": [
    "### Tweet Processing"
   ]
  }
 ],
 "metadata": {
  "kernelspec": {
   "display_name": "base",
   "language": "python",
   "name": "python3"
  },
  "language_info": {
   "codemirror_mode": {
    "name": "ipython",
    "version": 3
   },
   "file_extension": ".py",
   "mimetype": "text/x-python",
   "name": "python",
   "nbconvert_exporter": "python",
   "pygments_lexer": "ipython3",
   "version": "3.9.13"
  },
  "orig_nbformat": 4,
  "vscode": {
   "interpreter": {
    "hash": "b551947dbcea828fcad287b2b48fd3c080d4b3970cf5311e2f7ee8c675302a26"
   }
  }
 },
 "nbformat": 4,
 "nbformat_minor": 2
}
