{
 "cells": [
  {
   "attachments": {},
   "cell_type": "markdown",
   "metadata": {},
   "source": [
    "### Package Installs and Imports"
   ]
  },
  {
   "cell_type": "code",
   "execution_count": 2,
   "metadata": {},
   "outputs": [],
   "source": [
    "# %conda install -c conda-forge tweepy"
   ]
  },
  {
   "cell_type": "code",
   "execution_count": 3,
   "metadata": {},
   "outputs": [],
   "source": [
    "import tweepy\n",
    "import json\n",
    "import re\n",
    "import numpy as np\n",
    "import pandas as pd\n",
    "import matplotlib.pyplot as plt"
   ]
  },
  {
   "attachments": {},
   "cell_type": "markdown",
   "metadata": {},
   "source": [
    "### Data"
   ]
  },
  {
   "attachments": {},
   "cell_type": "markdown",
   "metadata": {},
   "source": [
    "The data used is from scraping the tweets of @WordleStats. API permissions (twitter api restricts the number of tweets that can be pulled per month) and hardware limitations prevent me from directly searching for all Wordle tweets myself. Implications of the dataset are discussed at the end of the data exploration section."
   ]
  },
  {
   "attachments": {},
   "cell_type": "markdown",
   "metadata": {},
   "source": [
    "### Twitter Authetication"
   ]
  },
  {
   "cell_type": "code",
   "execution_count": 4,
   "metadata": {},
   "outputs": [],
   "source": [
    "with open('credentials.json', 'r') as ifile:\n",
    "    creds = json.load(ifile)"
   ]
  },
  {
   "cell_type": "code",
   "execution_count": 5,
   "metadata": {},
   "outputs": [
    {
     "name": "stdout",
     "output_type": "stream",
     "text": [
      "Authorized as william04dan\n"
     ]
    }
   ],
   "source": [
    "api_key = creds['api_key']\n",
    "api_secret = creds['api_key_secret']\n",
    "bearer_token = creds['bearer_token']\n",
    "access_token = creds['access_token']\n",
    "access_token_secret = creds['access_token_secret']\n",
    "\n",
    "# Twitter API v.2 client authorization\n",
    "\n",
    "client = tweepy.Client(bearer_token, api_key, api_secret, access_token, access_token_secret)\n",
    "\n",
    "try:\n",
    "    me = client.get_me()\n",
    "    print(f\"Authorized as {me.data}\")\n",
    "except:\n",
    "    print(\"Authorization failed\")\n",
    "\n",
    "\n",
    "# Twitter API v.1 client authorization\n",
    "\n",
    "# auth = tweepy.OAuth1UserHandler(api_key, api_secret, access_token, access_token_secret)\n",
    "# api = tweepy.API(auth)"
   ]
  },
  {
   "attachments": {},
   "cell_type": "markdown",
   "metadata": {},
   "source": [
    "### Tweet Scraping\n"
   ]
  },
  {
   "cell_type": "code",
   "execution_count": 6,
   "metadata": {},
   "outputs": [],
   "source": [
    "target_username = 'WordleStats'\n",
    "target = client.get_users(usernames=[target_username])\n",
    "target_id = target.data[0].id"
   ]
  },
  {
   "attachments": {},
   "cell_type": "markdown",
   "metadata": {},
   "source": [
    "Client.get_users_tweets() only retrieves a maximum of 100 tweets per request so to grab all tweets we need to repeatedly request tweets"
   ]
  },
  {
   "cell_type": "code",
   "execution_count": 7,
   "metadata": {},
   "outputs": [
    {
     "name": "stdout",
     "output_type": "stream",
     "text": [
      "Grabbed 374 tweets from @WordleStats\n",
      "\n"
     ]
    }
   ],
   "source": [
    "target_tweets = client.get_users_tweets(id=target_id, max_results=100).data\n",
    "latest_id = target_tweets[-1].id\n",
    "\n",
    "while True:\n",
    "    next_tweets = client.get_users_tweets(id=target_id, max_results=100, until_id=latest_id).data\n",
    "    if not next_tweets:\n",
    "        break\n",
    "    target_tweets.extend(next_tweets)\n",
    "    latest_id = target_tweets[-1].id\n",
    "\n",
    "print(f\"Grabbed {len(target_tweets)} tweets from @{target_username}\\n\")"
   ]
  },
  {
   "attachments": {},
   "cell_type": "markdown",
   "metadata": {},
   "source": [
    "### Tweet Processing"
   ]
  },
  {
   "cell_type": "code",
   "execution_count": 8,
   "metadata": {},
   "outputs": [
    {
     "data": {
      "text/plain": [
       "<Tweet id=1612494626723876864 text='#Wordle 568 2023-01-08\\n21,510 results found on Twitter.\\n2,054 hard mode players.\\n\\n1:  2%\\n2: 🟩🟩 10%\\n3: 🟩🟩🟩🟩🟩🟩🟩 29%\\n4: 🟩🟩🟩🟩🟩🟩🟩🟩 33%\\n5: 🟩🟩🟩🟩🟩 20%\\n6: 🟩 6%\\nX:  1%\\n\\n#Wordle568'>"
      ]
     },
     "execution_count": 8,
     "metadata": {},
     "output_type": "execute_result"
    }
   ],
   "source": [
    "example_tweet = target_tweets[0]\n",
    "example_tweet"
   ]
  },
  {
   "cell_type": "code",
   "execution_count": 9,
   "metadata": {},
   "outputs": [
    {
     "data": {
      "text/plain": [
       "{'wordle_number': '568',\n",
       " 'total_players': 21510,\n",
       " 'hardmode_players': 2054,\n",
       " 'score_1': 0.02,\n",
       " 'score_2': 0.1,\n",
       " 'score_3': 0.29,\n",
       " 'score_4': 0.33,\n",
       " 'score_5': 0.2,\n",
       " 'score_6': 0.06,\n",
       " 'score_X': 0.01}"
      ]
     },
     "execution_count": 9,
     "metadata": {},
     "output_type": "execute_result"
    }
   ],
   "source": [
    "# Looking for the wordle number\n",
    "# For example, Wordle's autogenerated share message begins with 'Wordle #' where # is which number Wordle it is\n",
    "wordle_pattern = re.compile(r'[wW]ordle\\s?\\d+')\n",
    "\n",
    "# Looking for results found\n",
    "results_pattern = re.compile(r'[\\d,]+\\sresults')\n",
    "\n",
    "# Looking for hardmode players\n",
    "hardmode_pattern = re.compile(r'[\\d,]+\\shard')\n",
    "\n",
    "# Looking for the stats in WordleStat's tweets\n",
    "stat_pattern = re.compile(r'\\b[1-6xX]:.+\\d%')\n",
    "\n",
    "# Example processing of example_tweet\n",
    "example_data = {}\n",
    "wordle_match = wordle_pattern.search(example_tweet.text)\n",
    "results_match = results_pattern.search(example_tweet.text)\n",
    "hardmode_match = hardmode_pattern.search(example_tweet.text)\n",
    "stats_matches = stat_pattern.finditer(example_tweet.text)\n",
    "\n",
    "example_data['wordle_number'] = re.search(r'\\d+', wordle_match[0])[0]\n",
    "example_data['total_players'] = int(re.search(r'[\\d,]+', results_match[0])[0].replace(',', ''))\n",
    "example_data['hardmode_players'] = int(re.search(r'[\\d,]+', hardmode_match[0])[0].replace(',', ''))\n",
    "for match in stats_matches:\n",
    "    example_data[f'score_{match[0][0]}'] = int(re.search(r'\\d+', match[0][1:])[0]) / 100\n",
    "\n",
    "example_data"
   ]
  },
  {
   "cell_type": "code",
   "execution_count": 10,
   "metadata": {},
   "outputs": [
    {
     "name": "stdout",
     "output_type": "stream",
     "text": [
      "Did not find matching wordle_pattern in tweet 1488956933621129223\n",
      "Did not find matching results_pattern in tweet 1488956933621129223\n",
      "Did not find matching results_pattern in tweet 1488956933621129223\n",
      "Only found data for [] in tweet 1488956933621129223\n",
      "Did not find matching wordle_pattern in tweet 1487826071357739008\n",
      "Did not find matching results_pattern in tweet 1487826071357739008\n",
      "Did not find matching results_pattern in tweet 1487826071357739008\n",
      "Only found data for [] in tweet 1487826071357739008\n",
      "Did not find matching wordle_pattern in tweet 1486840170406158341\n",
      "Did not find matching results_pattern in tweet 1486840170406158341\n",
      "Did not find matching results_pattern in tweet 1486840170406158341\n",
      "Only found data for [] in tweet 1486840170406158341\n",
      "Did not find matching wordle_pattern in tweet 1483455698038050820\n",
      "Did not find matching results_pattern in tweet 1483455698038050820\n",
      "Did not find matching results_pattern in tweet 1483455698038050820\n",
      "Only found data for [] in tweet 1483455698038050820\n",
      "Did not find matching wordle_pattern in tweet 1482120702903951365\n",
      "Did not find matching wordle_pattern in tweet 1481690630078218242\n",
      "Did not find matching results_pattern in tweet 1481690630078218242\n",
      "Did not find matching wordle_pattern in tweet 1479898872898011139\n",
      "Did not find matching results_pattern in tweet 1479898872898011139\n",
      "Did not find matching results_pattern in tweet 1479898872898011139\n",
      "Only found data for [] in tweet 1479898872898011139\n"
     ]
    }
   ],
   "source": [
    "wordle_data = []\n",
    "invalid_tweets = set()\n",
    "\n",
    "for tweet in target_tweets:\n",
    "    tweet_data = {}\n",
    "    wordle_match = wordle_pattern.search(tweet.text)\n",
    "    if not wordle_match:\n",
    "        print(f'Did not find matching wordle_pattern in tweet {tweet.id}')\n",
    "        invalid_tweets.add(tweet.id)\n",
    "    else:\n",
    "        tweet_data['wordle_number'] = re.search(r'\\d+', wordle_match[0])[0]\n",
    "\n",
    "    results_match = results_pattern.search(tweet.text)\n",
    "    if not results_match:\n",
    "        print(f'Did not find matching results_pattern in tweet {tweet.id}')\n",
    "        invalid_tweets.add(tweet.id)\n",
    "    else:\n",
    "        tweet_data['total_players'] = int(re.search(r'[\\d,]+', results_match[0])[0].replace(',', ''))\n",
    "\n",
    "    hardmode_match = hardmode_pattern.search(tweet.text)\n",
    "    if not hardmode_match:\n",
    "        print(f'Did not find matching results_pattern in tweet {tweet.id}')\n",
    "        invalid_tweets.add(tweet.id)\n",
    "    else:\n",
    "        tweet_data['hardmode_players'] = int(re.search(r'[\\d,]+', hardmode_match[0])[0].replace(',', ''))\n",
    "\n",
    "    stats_matches = stat_pattern.finditer(tweet.text)\n",
    "    scores = []\n",
    "    for match in stats_matches:\n",
    "        scores.append(match[0][0])\n",
    "        tweet_data[f'score_{match[0][0]}'] = int(re.search(r'\\d+', match[0][1:])[0]) / 100\n",
    "    if len(scores) != 7:\n",
    "        print(f'Only found data for {scores} in tweet {tweet.id}')\n",
    "        invalid_tweets.add(tweet.id)\n",
    "\n",
    "    if not tweet.id in invalid_tweets:\n",
    "        wordle_data.append(tweet_data)"
   ]
  },
  {
   "cell_type": "code",
   "execution_count": 11,
   "metadata": {},
   "outputs": [
    {
     "name": "stdout",
     "output_type": "stream",
     "text": [
      "@CristinaAmpil What would an aggregate distribution look like? I’m unfamiliar with stats/etc\n",
      "@Gary_Boyd_NZ Just for you for today Gary:\n",
      "\n",
      "3,073 hard mode players.\n",
      "\n",
      "1:  1%\n",
      "2:  4%\n",
      "3: 🟩🟩🟩 16%\n",
      "4: 🟩🟩🟩🟩🟩🟩 27%\n",
      "5: 🟩🟩🟩🟩🟩🟩🟩 30%\n",
      "6: 🟩🟩🟩🟩 19%\n",
      "X: 🟩 4%\n",
      "@WordleHaiku These are the full results for everyone :)\n",
      "@24Acoustics @PlanningActBlog You are correct! This should now be fixed.\n",
      "@WordleHaiku Just for you for today!\n",
      "\n",
      "132,770 results found on Twitter.\n",
      "3,346 hard mode players.\n",
      "\n",
      "1:  0.63%\n",
      "2:  2.28%\n",
      "3: 🟩🟩🟩 13.08%\n",
      "4: 🟩🟩🟩🟩🟩🟩🟩 29.11%\n",
      "5: 🟩🟩🟩🟩🟩🟩🟩 31.45%\n",
      "6: 🟩🟩🟩🟩🟩 20.32%\n",
      "X:  3.13%\n",
      "@fudo @gooeyblob @WordleFRStats Yes, all players. I’ll see if adding the average makes sense, thanks!\n",
      "@kyfdx Whole group\n"
     ]
    }
   ],
   "source": [
    "for tweet_id in invalid_tweets:\n",
    "    tweet = client.get_tweet(id=tweet_id)\n",
    "    print(tweet.data.text)"
   ]
  },
  {
   "attachments": {},
   "cell_type": "markdown",
   "metadata": {},
   "source": [
    "Looking through the above tweets, there isn't a large pattern of tweets misidentified. In fact, the only two tweets above containing contained Wordle data where additional side-tweets; they did not replace the daily stats. This is confirmed in the Data Exploration section."
   ]
  },
  {
   "cell_type": "code",
   "execution_count": 12,
   "metadata": {},
   "outputs": [
    {
     "data": {
      "text/html": [
       "<div>\n",
       "<style scoped>\n",
       "    .dataframe tbody tr th:only-of-type {\n",
       "        vertical-align: middle;\n",
       "    }\n",
       "\n",
       "    .dataframe tbody tr th {\n",
       "        vertical-align: top;\n",
       "    }\n",
       "\n",
       "    .dataframe thead th {\n",
       "        text-align: right;\n",
       "    }\n",
       "</style>\n",
       "<table border=\"1\" class=\"dataframe\">\n",
       "  <thead>\n",
       "    <tr style=\"text-align: right;\">\n",
       "      <th></th>\n",
       "      <th>wordle_number</th>\n",
       "      <th>total_players</th>\n",
       "      <th>hardmode_players</th>\n",
       "      <th>score_1</th>\n",
       "      <th>score_2</th>\n",
       "      <th>score_3</th>\n",
       "      <th>score_4</th>\n",
       "      <th>score_5</th>\n",
       "      <th>score_6</th>\n",
       "      <th>score_X</th>\n",
       "    </tr>\n",
       "  </thead>\n",
       "  <tbody>\n",
       "    <tr>\n",
       "      <th>0</th>\n",
       "      <td>202</td>\n",
       "      <td>80630</td>\n",
       "      <td>1362</td>\n",
       "      <td>0.01</td>\n",
       "      <td>0.03</td>\n",
       "      <td>0.23</td>\n",
       "      <td>0.39</td>\n",
       "      <td>0.24</td>\n",
       "      <td>0.09</td>\n",
       "      <td>0.01</td>\n",
       "    </tr>\n",
       "    <tr>\n",
       "      <th>1</th>\n",
       "      <td>203</td>\n",
       "      <td>101503</td>\n",
       "      <td>1763</td>\n",
       "      <td>0.01</td>\n",
       "      <td>0.05</td>\n",
       "      <td>0.23</td>\n",
       "      <td>0.31</td>\n",
       "      <td>0.24</td>\n",
       "      <td>0.14</td>\n",
       "      <td>0.02</td>\n",
       "    </tr>\n",
       "    <tr>\n",
       "      <th>2</th>\n",
       "      <td>204</td>\n",
       "      <td>91477</td>\n",
       "      <td>1913</td>\n",
       "      <td>0.01</td>\n",
       "      <td>0.03</td>\n",
       "      <td>0.13</td>\n",
       "      <td>0.27</td>\n",
       "      <td>0.30</td>\n",
       "      <td>0.22</td>\n",
       "      <td>0.04</td>\n",
       "    </tr>\n",
       "    <tr>\n",
       "      <th>3</th>\n",
       "      <td>205</td>\n",
       "      <td>107134</td>\n",
       "      <td>2242</td>\n",
       "      <td>0.01</td>\n",
       "      <td>0.04</td>\n",
       "      <td>0.16</td>\n",
       "      <td>0.30</td>\n",
       "      <td>0.30</td>\n",
       "      <td>0.17</td>\n",
       "      <td>0.02</td>\n",
       "    </tr>\n",
       "    <tr>\n",
       "      <th>4</th>\n",
       "      <td>206</td>\n",
       "      <td>153880</td>\n",
       "      <td>3017</td>\n",
       "      <td>0.01</td>\n",
       "      <td>0.09</td>\n",
       "      <td>0.35</td>\n",
       "      <td>0.34</td>\n",
       "      <td>0.16</td>\n",
       "      <td>0.05</td>\n",
       "      <td>0.01</td>\n",
       "    </tr>\n",
       "    <tr>\n",
       "      <th>...</th>\n",
       "      <td>...</td>\n",
       "      <td>...</td>\n",
       "      <td>...</td>\n",
       "      <td>...</td>\n",
       "      <td>...</td>\n",
       "      <td>...</td>\n",
       "      <td>...</td>\n",
       "      <td>...</td>\n",
       "      <td>...</td>\n",
       "      <td>...</td>\n",
       "    </tr>\n",
       "    <tr>\n",
       "      <th>362</th>\n",
       "      <td>564</td>\n",
       "      <td>22394</td>\n",
       "      <td>2207</td>\n",
       "      <td>0.00</td>\n",
       "      <td>0.05</td>\n",
       "      <td>0.18</td>\n",
       "      <td>0.25</td>\n",
       "      <td>0.22</td>\n",
       "      <td>0.19</td>\n",
       "      <td>0.11</td>\n",
       "    </tr>\n",
       "    <tr>\n",
       "      <th>363</th>\n",
       "      <td>565</td>\n",
       "      <td>22283</td>\n",
       "      <td>2078</td>\n",
       "      <td>0.00</td>\n",
       "      <td>0.03</td>\n",
       "      <td>0.22</td>\n",
       "      <td>0.42</td>\n",
       "      <td>0.25</td>\n",
       "      <td>0.07</td>\n",
       "      <td>0.01</td>\n",
       "    </tr>\n",
       "    <tr>\n",
       "      <th>364</th>\n",
       "      <td>566</td>\n",
       "      <td>19725</td>\n",
       "      <td>1936</td>\n",
       "      <td>0.00</td>\n",
       "      <td>0.01</td>\n",
       "      <td>0.12</td>\n",
       "      <td>0.33</td>\n",
       "      <td>0.33</td>\n",
       "      <td>0.17</td>\n",
       "      <td>0.03</td>\n",
       "    </tr>\n",
       "    <tr>\n",
       "      <th>365</th>\n",
       "      <td>567</td>\n",
       "      <td>21946</td>\n",
       "      <td>2072</td>\n",
       "      <td>0.01</td>\n",
       "      <td>0.08</td>\n",
       "      <td>0.29</td>\n",
       "      <td>0.37</td>\n",
       "      <td>0.19</td>\n",
       "      <td>0.06</td>\n",
       "      <td>0.01</td>\n",
       "    </tr>\n",
       "    <tr>\n",
       "      <th>366</th>\n",
       "      <td>568</td>\n",
       "      <td>21510</td>\n",
       "      <td>2054</td>\n",
       "      <td>0.02</td>\n",
       "      <td>0.10</td>\n",
       "      <td>0.29</td>\n",
       "      <td>0.33</td>\n",
       "      <td>0.20</td>\n",
       "      <td>0.06</td>\n",
       "      <td>0.01</td>\n",
       "    </tr>\n",
       "  </tbody>\n",
       "</table>\n",
       "<p>367 rows × 10 columns</p>\n",
       "</div>"
      ],
      "text/plain": [
       "    wordle_number  total_players  hardmode_players  score_1  score_2  score_3  \\\n",
       "0             202          80630              1362     0.01     0.03     0.23   \n",
       "1             203         101503              1763     0.01     0.05     0.23   \n",
       "2             204          91477              1913     0.01     0.03     0.13   \n",
       "3             205         107134              2242     0.01     0.04     0.16   \n",
       "4             206         153880              3017     0.01     0.09     0.35   \n",
       "..            ...            ...               ...      ...      ...      ...   \n",
       "362           564          22394              2207     0.00     0.05     0.18   \n",
       "363           565          22283              2078     0.00     0.03     0.22   \n",
       "364           566          19725              1936     0.00     0.01     0.12   \n",
       "365           567          21946              2072     0.01     0.08     0.29   \n",
       "366           568          21510              2054     0.02     0.10     0.29   \n",
       "\n",
       "     score_4  score_5  score_6  score_X  \n",
       "0       0.39     0.24     0.09     0.01  \n",
       "1       0.31     0.24     0.14     0.02  \n",
       "2       0.27     0.30     0.22     0.04  \n",
       "3       0.30     0.30     0.17     0.02  \n",
       "4       0.34     0.16     0.05     0.01  \n",
       "..       ...      ...      ...      ...  \n",
       "362     0.25     0.22     0.19     0.11  \n",
       "363     0.42     0.25     0.07     0.01  \n",
       "364     0.33     0.33     0.17     0.03  \n",
       "365     0.37     0.19     0.06     0.01  \n",
       "366     0.33     0.20     0.06     0.01  \n",
       "\n",
       "[367 rows x 10 columns]"
      ]
     },
     "execution_count": 12,
     "metadata": {},
     "output_type": "execute_result"
    }
   ],
   "source": [
    "# It makes more sense to reverse the data\n",
    "wordle_df = pd.DataFrame(reversed(wordle_data))\n",
    "wordle_df"
   ]
  },
  {
   "attachments": {},
   "cell_type": "markdown",
   "metadata": {},
   "source": [
    "Finally, we load all Wordle words (up to February 04, 2023) into a list."
   ]
  },
  {
   "cell_type": "code",
   "execution_count": 13,
   "metadata": {},
   "outputs": [
    {
     "data": {
      "text/plain": [
       "['CIGAR', 'REBUT', 'SISSY', 'HUMPH', 'AWAKE']"
      ]
     },
     "execution_count": 13,
     "metadata": {},
     "output_type": "execute_result"
    }
   ],
   "source": [
    "wordle_words = []\n",
    "\n",
    "with open('wordle_words.txt', 'r') as fin:\n",
    "    word_pattern = re.compile(r'[A-Z]{5}')\n",
    "    for line in fin:\n",
    "        wordle_words.append(word_pattern.search(line)[0])\n",
    "\n",
    "wordle_words[:5]"
   ]
  },
  {
   "attachments": {},
   "cell_type": "markdown",
   "metadata": {},
   "source": [
    "### Data Exploration"
   ]
  },
  {
   "attachments": {},
   "cell_type": "markdown",
   "metadata": {},
   "source": [
    "Looking at the preview above, it seems that the earliest Wordle we have data on is Wordle 202. The latest is Wordle 568. We confirm this below."
   ]
  },
  {
   "cell_type": "code",
   "execution_count": 14,
   "metadata": {},
   "outputs": [
    {
     "name": "stdout",
     "output_type": "stream",
     "text": [
      "The earliest recorded Wordle is Wordle 202\n",
      "The latest recorded Wordle is Wordle 568\n"
     ]
    }
   ],
   "source": [
    "print(f'The earliest recorded Wordle is Wordle {wordle_df[\"wordle_number\"].min()}')\n",
    "print(f'The latest recorded Wordle is Wordle {wordle_df[\"wordle_number\"].max()}')"
   ]
  },
  {
   "attachments": {},
   "cell_type": "markdown",
   "metadata": {},
   "source": [
    "Additionally, we can confirm that there are no Wordles skipped between 202 and 568. This confirms what we stated at the end of the previous section."
   ]
  },
  {
   "cell_type": "code",
   "execution_count": 15,
   "metadata": {},
   "outputs": [
    {
     "name": "stdout",
     "output_type": "stream",
     "text": [
      "There are 367 distinct Wordles recorded\n",
      "There are 367 Wordles recorded\n"
     ]
    }
   ],
   "source": [
    "print(f'There are {len(wordle_df[\"wordle_number\"].unique())} distinct Wordles recorded')\n",
    "print(f'There are {wordle_df.shape[0]} Wordles recorded')"
   ]
  },
  {
   "attachments": {},
   "cell_type": "markdown",
   "metadata": {},
   "source": [
    "#### Let's look at player trends."
   ]
  },
  {
   "cell_type": "code",
   "execution_count": 16,
   "metadata": {},
   "outputs": [
    {
     "data": {
      "image/png": "[encoded data removed]",
      "text/plain": [
       "<Figure size 1200x400 with 2 Axes>"
      ]
     },
     "metadata": {},
     "output_type": "display_data"
    }
   ],
   "source": [
    "fig, axs = plt.subplots(1, 2, figsize=(12, 4), layout='constrained')\n",
    "\n",
    "# Total players\n",
    "axs[0].plot(wordle_df['wordle_number'], wordle_df['total_players'])\n",
    "start, end = axs[0].get_xlim()\n",
    "axs[0].xaxis.set_ticks(np.arange(start, end, 50))\n",
    "axs[0].set_xlabel('Wordle Number')\n",
    "axs[0].set_ylabel('Total Players')\n",
    "axs[0].set_title('Players over Time')\n",
    "\n",
    "# Hardmode players\n",
    "axs[1].plot(wordle_df['wordle_number'], wordle_df['hardmode_players'] / wordle_df['total_players'])\n",
    "start, end = axs[1].get_xlim()\n",
    "axs[1].xaxis.set_ticks(np.arange(start, end, 50))\n",
    "axs[1].set_xlabel('Wordle Number')\n",
    "axs[1].set_ylabel('Hardmode Players (% of Total)')\n",
    "axs[1].set_title('Hardmode Players over Time')\n",
    "plt.show()"
   ]
  },
  {
   "attachments": {},
   "cell_type": "markdown",
   "metadata": {},
   "source": [
    "We observe that Wordle's popularity explodes at around Wordle 240 and has steadily fallen since then. This matches Wordle's virality at that time, and the steady decline since then matches the expected lifecycle of any game, especially one with a moment of virality like Wordle.\n",
    "\n",
    "We can also observe that in this time Wordle's percentage of hardmode players has steadily increased. This may be explained by the idea that hardmode players are less likely to stop playing, and that as time goes on more players become better and discover hardmode."
   ]
  },
  {
   "attachments": {},
   "cell_type": "markdown",
   "metadata": {},
   "source": [
    "#### Let's look at difficulty."
   ]
  },
  {
   "attachments": {},
   "cell_type": "markdown",
   "metadata": {},
   "source": [
    "A natural way to determine the difficulty of a Wordle word is the average number of tries a user takes. This requires some decision-making.\n",
    "\n",
    "1. Foremost is that the game ends after 6 tries. In reality, X tries can be 7, 8, or any number of tries. I choose to treat X tries as 7 tries. Given the distribution of tries this would be the most likely amount of tries X tries would correspond to. Also, as the amount of tries gets further from the average of 4 or 5, like 12 or 13, we might expect the score to be overly influenced by personal factors (such as knowing the target word, personal strategy) than the difficulty of the word.\n",
    "\n",
    "2. Secondly, because we know how the game works, we know it is simply up to blind luck (or cheating) that a player gets the word in 1 try. Furthermore, the percentage is consistently close to 0%, and so it is unduly affected by the rounding done. I choose to exclude scores of 1 from my calculations."
   ]
  },
  {
   "cell_type": "code",
   "execution_count": 17,
   "metadata": {},
   "outputs": [
    {
     "name": "stdout",
     "output_type": "stream",
     "text": [
      "The average difficulty of a Wordle is 4.205132856355055\n"
     ]
    }
   ],
   "source": [
    "def average_score(row):\n",
    "    weighted = 0\n",
    "    total = 0\n",
    "    for score, score_col in enumerate(wordle_df.columns[4:], start=2):\n",
    "        weighted += score * row[score_col]\n",
    "        total += row[score_col]\n",
    "    return weighted / total\n",
    "\n",
    "average_scores = wordle_df.apply(average_score, axis=1)\n",
    "print(f'The average difficulty of a Wordle is {average_scores.mean()}')"
   ]
  },
  {
   "attachments": {},
   "cell_type": "markdown",
   "metadata": {},
   "source": [
    "Finally, let's find the three easiest Wordle words and the three hardest Wordle words."
   ]
  },
  {
   "cell_type": "code",
   "execution_count": 18,
   "metadata": {},
   "outputs": [
    {
     "name": "stdout",
     "output_type": "stream",
     "text": [
      "The Three Easiest Wordles were:\n",
      "Wordle 319: TRAIN\n",
      "Wordle 307: PLANT\n",
      "Wordle 294: STAIR\n",
      "The Three Hardest Wordles were:\n",
      "Wordle 454: PARER\n",
      "Wordle 491: MUMMY\n",
      "Wordle 409: COYLY\n"
     ]
    }
   ],
   "source": [
    "sorted_averages = average_scores.sort_values()\n",
    "easiest_wordles = [int(wordle_df['wordle_number'][sorted_averages.index[i]]) for i in range(3)]\n",
    "hardest_wordles = [int(wordle_df['wordle_number'][sorted_averages.index[-i]]) for i in range(1, 4)]\n",
    "\n",
    "print(f'The Three Easiest Wordles were:')\n",
    "for i in range(3):\n",
    "    print(f'Wordle {easiest_wordles[i]}: {wordle_words[easiest_wordles[i]]}')\n",
    "\n",
    "print(f'The Three Hardest Wordles were:')\n",
    "for i in range(3):\n",
    "    print(f'Wordle {hardest_wordles[i]}: {wordle_words[hardest_wordles[i]]}')"
   ]
  },
  {
   "attachments": {},
   "cell_type": "markdown",
   "metadata": {},
   "source": [
    "The data we used is far from perfect. Someone else has aggregated the data, so we are relying on their accuracy. In addition, the percentages are rounded. It would be better to scrape the individual tweets ourselves to get a more exact distribution. If we had direct access to Wordle, we could get much more complete and unbaised data, like the actual number of players and scores, the scores of the people who share their scores, the number of people who start but do not complete their Wordle, etc."
   ]
  }
 ],
 "metadata": {
  "kernelspec": {
   "display_name": "base",
   "language": "python",
   "name": "python3"
  },
  "language_info": {
   "codemirror_mode": {
    "name": "ipython",
    "version": 3
   },
   "file_extension": ".py",
   "mimetype": "text/x-python",
   "name": "python",
   "nbconvert_exporter": "python",
   "pygments_lexer": "ipython3",
   "version": "3.9.13"
  },
  "orig_nbformat": 4,
  "vscode": {
   "interpreter": {
    "hash": "b551947dbcea828fcad287b2b48fd3c080d4b3970cf5311e2f7ee8c675302a26"
   }
  }
 },
 "nbformat": 4,
 "nbformat_minor": 2
}
